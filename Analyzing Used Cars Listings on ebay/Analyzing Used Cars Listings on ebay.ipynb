{
 "cells": [
  {
   "cell_type": "markdown",
   "id": "1ff2834c",
   "metadata": {},
   "source": [
    "# Analyzing Used Car Listings on eBay\n",
    "\n",
    "In this project, we'll work with a dataset of used cars from German eBay website."
   ]
  },
  {
   "cell_type": "raw",
   "id": "d1c2f95d",
   "metadata": {},
   "source": [
    "The data dictionary is as follows:\n",
    "\n",
    "dateCrawled -> When this ad was first crawled.\n",
    "name -> Name of the car.\n",
    "seller -> Whether the seller is private or a dealer.\n",
    "offerType -> The type of listing\n",
    "price -> The price on the ad to sell the car.\n",
    "abtest -> Whether the listing is included in an A/B test.\n",
    "vehicleType -> The vehicle Type.\n",
    "yearOfRegistration -> The year in which the car was first registered.\n",
    "gearbox -> The transmission type.\n",
    "powerPS -> The power of the car in PS.\n",
    "model -> The car model name.\n",
    "kilometer -> How many kilometers the car has driven.\n",
    "monthOfRegistration -> The month in which the car was first registered.\n",
    "fuelType -> What type of fuel the car uses.\n",
    "brand -> The brand of the car.\n",
    "notRepairedDamage -> If the car has a damage which is not yet repaired.\n",
    "dateCreated -> The date on which the eBay listing was created.\n",
    "nrOfPictures -> The number of pictures in the ad.\n",
    "postalCode -> The postal code for the location of the vehicle.\n",
    "lastSeenOnline -> When the crawler saw this ad last online."
   ]
  },
  {
   "cell_type": "markdown",
   "id": "8c0e842f",
   "metadata": {},
   "source": [
    "# **Importing the Libraries**"
   ]
  },
  {
   "cell_type": "code",
   "execution_count": 1,
   "id": "69c6ff9a",
   "metadata": {},
   "outputs": [],
   "source": [
    "import pandas as pd\n",
    "import numpy as np\n",
    "import matplotlib.pyplot as plt\n",
    "import seaborn as sns\n",
    "sns.set()"
   ]
  },
  {
   "cell_type": "code",
   "execution_count": 2,
   "id": "1266208e",
   "metadata": {},
   "outputs": [
    {
     "data": {
      "text/html": [
       "<div>\n",
       "<style scoped>\n",
       "    .dataframe tbody tr th:only-of-type {\n",
       "        vertical-align: middle;\n",
       "    }\n",
       "\n",
       "    .dataframe tbody tr th {\n",
       "        vertical-align: top;\n",
       "    }\n",
       "\n",
       "    .dataframe thead th {\n",
       "        text-align: right;\n",
       "    }\n",
       "</style>\n",
       "<table border=\"1\" class=\"dataframe\">\n",
       "  <thead>\n",
       "    <tr style=\"text-align: right;\">\n",
       "      <th></th>\n",
       "      <th>dateCrawled</th>\n",
       "      <th>name</th>\n",
       "      <th>seller</th>\n",
       "      <th>offerType</th>\n",
       "      <th>price</th>\n",
       "      <th>abtest</th>\n",
       "      <th>vehicleType</th>\n",
       "      <th>yearOfRegistration</th>\n",
       "      <th>gearbox</th>\n",
       "      <th>powerPS</th>\n",
       "      <th>model</th>\n",
       "      <th>odometer</th>\n",
       "      <th>monthOfRegistration</th>\n",
       "      <th>fuelType</th>\n",
       "      <th>brand</th>\n",
       "      <th>notRepairedDamage</th>\n",
       "      <th>dateCreated</th>\n",
       "      <th>nrOfPictures</th>\n",
       "      <th>postalCode</th>\n",
       "      <th>lastSeen</th>\n",
       "    </tr>\n",
       "  </thead>\n",
       "  <tbody>\n",
       "    <tr>\n",
       "      <th>0</th>\n",
       "      <td>2016-03-26 17:47:46</td>\n",
       "      <td>Peugeot_807_160_NAVTECH_ON_BOARD</td>\n",
       "      <td>privat</td>\n",
       "      <td>Angebot</td>\n",
       "      <td>$5,000</td>\n",
       "      <td>control</td>\n",
       "      <td>bus</td>\n",
       "      <td>2004</td>\n",
       "      <td>manuell</td>\n",
       "      <td>158</td>\n",
       "      <td>andere</td>\n",
       "      <td>150,000km</td>\n",
       "      <td>3</td>\n",
       "      <td>lpg</td>\n",
       "      <td>peugeot</td>\n",
       "      <td>nein</td>\n",
       "      <td>2016-03-26 00:00:00</td>\n",
       "      <td>0</td>\n",
       "      <td>79588</td>\n",
       "      <td>2016-04-06 06:45:54</td>\n",
       "    </tr>\n",
       "    <tr>\n",
       "      <th>1</th>\n",
       "      <td>2016-04-04 13:38:56</td>\n",
       "      <td>BMW_740i_4_4_Liter_HAMANN_UMBAU_Mega_Optik</td>\n",
       "      <td>privat</td>\n",
       "      <td>Angebot</td>\n",
       "      <td>$8,500</td>\n",
       "      <td>control</td>\n",
       "      <td>limousine</td>\n",
       "      <td>1997</td>\n",
       "      <td>automatik</td>\n",
       "      <td>286</td>\n",
       "      <td>7er</td>\n",
       "      <td>150,000km</td>\n",
       "      <td>6</td>\n",
       "      <td>benzin</td>\n",
       "      <td>bmw</td>\n",
       "      <td>nein</td>\n",
       "      <td>2016-04-04 00:00:00</td>\n",
       "      <td>0</td>\n",
       "      <td>71034</td>\n",
       "      <td>2016-04-06 14:45:08</td>\n",
       "    </tr>\n",
       "    <tr>\n",
       "      <th>2</th>\n",
       "      <td>2016-03-26 18:57:24</td>\n",
       "      <td>Volkswagen_Golf_1.6_United</td>\n",
       "      <td>privat</td>\n",
       "      <td>Angebot</td>\n",
       "      <td>$8,990</td>\n",
       "      <td>test</td>\n",
       "      <td>limousine</td>\n",
       "      <td>2009</td>\n",
       "      <td>manuell</td>\n",
       "      <td>102</td>\n",
       "      <td>golf</td>\n",
       "      <td>70,000km</td>\n",
       "      <td>7</td>\n",
       "      <td>benzin</td>\n",
       "      <td>volkswagen</td>\n",
       "      <td>nein</td>\n",
       "      <td>2016-03-26 00:00:00</td>\n",
       "      <td>0</td>\n",
       "      <td>35394</td>\n",
       "      <td>2016-04-06 20:15:37</td>\n",
       "    </tr>\n",
       "    <tr>\n",
       "      <th>3</th>\n",
       "      <td>2016-03-12 16:58:10</td>\n",
       "      <td>Smart_smart_fortwo_coupe_softouch/F1/Klima/Pan...</td>\n",
       "      <td>privat</td>\n",
       "      <td>Angebot</td>\n",
       "      <td>$4,350</td>\n",
       "      <td>control</td>\n",
       "      <td>kleinwagen</td>\n",
       "      <td>2007</td>\n",
       "      <td>automatik</td>\n",
       "      <td>71</td>\n",
       "      <td>fortwo</td>\n",
       "      <td>70,000km</td>\n",
       "      <td>6</td>\n",
       "      <td>benzin</td>\n",
       "      <td>smart</td>\n",
       "      <td>nein</td>\n",
       "      <td>2016-03-12 00:00:00</td>\n",
       "      <td>0</td>\n",
       "      <td>33729</td>\n",
       "      <td>2016-03-15 03:16:28</td>\n",
       "    </tr>\n",
       "    <tr>\n",
       "      <th>4</th>\n",
       "      <td>2016-04-01 14:38:50</td>\n",
       "      <td>Ford_Focus_1_6_Benzin_TÜV_neu_ist_sehr_gepfleg...</td>\n",
       "      <td>privat</td>\n",
       "      <td>Angebot</td>\n",
       "      <td>$1,350</td>\n",
       "      <td>test</td>\n",
       "      <td>kombi</td>\n",
       "      <td>2003</td>\n",
       "      <td>manuell</td>\n",
       "      <td>0</td>\n",
       "      <td>focus</td>\n",
       "      <td>150,000km</td>\n",
       "      <td>7</td>\n",
       "      <td>benzin</td>\n",
       "      <td>ford</td>\n",
       "      <td>nein</td>\n",
       "      <td>2016-04-01 00:00:00</td>\n",
       "      <td>0</td>\n",
       "      <td>39218</td>\n",
       "      <td>2016-04-01 14:38:50</td>\n",
       "    </tr>\n",
       "  </tbody>\n",
       "</table>\n",
       "</div>"
      ],
      "text/plain": [
       "           dateCrawled                                               name  \\\n",
       "0  2016-03-26 17:47:46                   Peugeot_807_160_NAVTECH_ON_BOARD   \n",
       "1  2016-04-04 13:38:56         BMW_740i_4_4_Liter_HAMANN_UMBAU_Mega_Optik   \n",
       "2  2016-03-26 18:57:24                         Volkswagen_Golf_1.6_United   \n",
       "3  2016-03-12 16:58:10  Smart_smart_fortwo_coupe_softouch/F1/Klima/Pan...   \n",
       "4  2016-04-01 14:38:50  Ford_Focus_1_6_Benzin_TÜV_neu_ist_sehr_gepfleg...   \n",
       "\n",
       "   seller offerType   price   abtest vehicleType  yearOfRegistration  \\\n",
       "0  privat   Angebot  $5,000  control         bus                2004   \n",
       "1  privat   Angebot  $8,500  control   limousine                1997   \n",
       "2  privat   Angebot  $8,990     test   limousine                2009   \n",
       "3  privat   Angebot  $4,350  control  kleinwagen                2007   \n",
       "4  privat   Angebot  $1,350     test       kombi                2003   \n",
       "\n",
       "     gearbox  powerPS   model   odometer  monthOfRegistration fuelType  \\\n",
       "0    manuell      158  andere  150,000km                    3      lpg   \n",
       "1  automatik      286     7er  150,000km                    6   benzin   \n",
       "2    manuell      102    golf   70,000km                    7   benzin   \n",
       "3  automatik       71  fortwo   70,000km                    6   benzin   \n",
       "4    manuell        0   focus  150,000km                    7   benzin   \n",
       "\n",
       "        brand notRepairedDamage          dateCreated  nrOfPictures  \\\n",
       "0     peugeot              nein  2016-03-26 00:00:00             0   \n",
       "1         bmw              nein  2016-04-04 00:00:00             0   \n",
       "2  volkswagen              nein  2016-03-26 00:00:00             0   \n",
       "3       smart              nein  2016-03-12 00:00:00             0   \n",
       "4        ford              nein  2016-04-01 00:00:00             0   \n",
       "\n",
       "   postalCode             lastSeen  \n",
       "0       79588  2016-04-06 06:45:54  \n",
       "1       71034  2016-04-06 14:45:08  \n",
       "2       35394  2016-04-06 20:15:37  \n",
       "3       33729  2016-03-15 03:16:28  \n",
       "4       39218  2016-04-01 14:38:50  "
      ]
     },
     "execution_count": 2,
     "metadata": {},
     "output_type": "execute_result"
    }
   ],
   "source": [
    "autos = pd.read_csv(\"auctioned.csv\",encoding = \"latin-1\")\n",
    "autos.head()"
   ]
  },
  {
   "cell_type": "markdown",
   "id": "1a76d284",
   "metadata": {},
   "source": [
    "## **Information about the data**"
   ]
  },
  {
   "cell_type": "code",
   "execution_count": 3,
   "id": "baf64dee",
   "metadata": {},
   "outputs": [
    {
     "name": "stdout",
     "output_type": "stream",
     "text": [
      "<class 'pandas.core.frame.DataFrame'>\n",
      "RangeIndex: 50000 entries, 0 to 49999\n",
      "Data columns (total 20 columns):\n",
      " #   Column               Non-Null Count  Dtype \n",
      "---  ------               --------------  ----- \n",
      " 0   dateCrawled          50000 non-null  object\n",
      " 1   name                 50000 non-null  object\n",
      " 2   seller               50000 non-null  object\n",
      " 3   offerType            50000 non-null  object\n",
      " 4   price                50000 non-null  object\n",
      " 5   abtest               50000 non-null  object\n",
      " 6   vehicleType          44905 non-null  object\n",
      " 7   yearOfRegistration   50000 non-null  int64 \n",
      " 8   gearbox              47320 non-null  object\n",
      " 9   powerPS              50000 non-null  int64 \n",
      " 10  model                47242 non-null  object\n",
      " 11  odometer             50000 non-null  object\n",
      " 12  monthOfRegistration  50000 non-null  int64 \n",
      " 13  fuelType             45518 non-null  object\n",
      " 14  brand                50000 non-null  object\n",
      " 15  notRepairedDamage    40171 non-null  object\n",
      " 16  dateCreated          50000 non-null  object\n",
      " 17  nrOfPictures         50000 non-null  int64 \n",
      " 18  postalCode           50000 non-null  int64 \n",
      " 19  lastSeen             50000 non-null  object\n",
      "dtypes: int64(5), object(15)\n",
      "memory usage: 7.6+ MB\n"
     ]
    }
   ],
   "source": [
    "autos.info()"
   ]
  },
  {
   "cell_type": "markdown",
   "id": "865cfc92",
   "metadata": {},
   "source": [
    "## **Statistical Analysis**"
   ]
  },
  {
   "cell_type": "code",
   "execution_count": 4,
   "id": "67747a6d",
   "metadata": {},
   "outputs": [
    {
     "data": {
      "text/html": [
       "<div>\n",
       "<style scoped>\n",
       "    .dataframe tbody tr th:only-of-type {\n",
       "        vertical-align: middle;\n",
       "    }\n",
       "\n",
       "    .dataframe tbody tr th {\n",
       "        vertical-align: top;\n",
       "    }\n",
       "\n",
       "    .dataframe thead th {\n",
       "        text-align: right;\n",
       "    }\n",
       "</style>\n",
       "<table border=\"1\" class=\"dataframe\">\n",
       "  <thead>\n",
       "    <tr style=\"text-align: right;\">\n",
       "      <th></th>\n",
       "      <th>count</th>\n",
       "      <th>unique</th>\n",
       "      <th>top</th>\n",
       "      <th>freq</th>\n",
       "      <th>mean</th>\n",
       "      <th>std</th>\n",
       "      <th>min</th>\n",
       "      <th>25%</th>\n",
       "      <th>50%</th>\n",
       "      <th>75%</th>\n",
       "      <th>max</th>\n",
       "    </tr>\n",
       "  </thead>\n",
       "  <tbody>\n",
       "    <tr>\n",
       "      <th>dateCrawled</th>\n",
       "      <td>50000</td>\n",
       "      <td>48213</td>\n",
       "      <td>2016-04-02 11:37:04</td>\n",
       "      <td>3</td>\n",
       "      <td>NaN</td>\n",
       "      <td>NaN</td>\n",
       "      <td>NaN</td>\n",
       "      <td>NaN</td>\n",
       "      <td>NaN</td>\n",
       "      <td>NaN</td>\n",
       "      <td>NaN</td>\n",
       "    </tr>\n",
       "    <tr>\n",
       "      <th>name</th>\n",
       "      <td>50000</td>\n",
       "      <td>38754</td>\n",
       "      <td>Ford_Fiesta</td>\n",
       "      <td>78</td>\n",
       "      <td>NaN</td>\n",
       "      <td>NaN</td>\n",
       "      <td>NaN</td>\n",
       "      <td>NaN</td>\n",
       "      <td>NaN</td>\n",
       "      <td>NaN</td>\n",
       "      <td>NaN</td>\n",
       "    </tr>\n",
       "    <tr>\n",
       "      <th>seller</th>\n",
       "      <td>50000</td>\n",
       "      <td>2</td>\n",
       "      <td>privat</td>\n",
       "      <td>49999</td>\n",
       "      <td>NaN</td>\n",
       "      <td>NaN</td>\n",
       "      <td>NaN</td>\n",
       "      <td>NaN</td>\n",
       "      <td>NaN</td>\n",
       "      <td>NaN</td>\n",
       "      <td>NaN</td>\n",
       "    </tr>\n",
       "    <tr>\n",
       "      <th>offerType</th>\n",
       "      <td>50000</td>\n",
       "      <td>2</td>\n",
       "      <td>Angebot</td>\n",
       "      <td>49999</td>\n",
       "      <td>NaN</td>\n",
       "      <td>NaN</td>\n",
       "      <td>NaN</td>\n",
       "      <td>NaN</td>\n",
       "      <td>NaN</td>\n",
       "      <td>NaN</td>\n",
       "      <td>NaN</td>\n",
       "    </tr>\n",
       "    <tr>\n",
       "      <th>price</th>\n",
       "      <td>50000</td>\n",
       "      <td>2357</td>\n",
       "      <td>$0</td>\n",
       "      <td>1421</td>\n",
       "      <td>NaN</td>\n",
       "      <td>NaN</td>\n",
       "      <td>NaN</td>\n",
       "      <td>NaN</td>\n",
       "      <td>NaN</td>\n",
       "      <td>NaN</td>\n",
       "      <td>NaN</td>\n",
       "    </tr>\n",
       "    <tr>\n",
       "      <th>abtest</th>\n",
       "      <td>50000</td>\n",
       "      <td>2</td>\n",
       "      <td>test</td>\n",
       "      <td>25756</td>\n",
       "      <td>NaN</td>\n",
       "      <td>NaN</td>\n",
       "      <td>NaN</td>\n",
       "      <td>NaN</td>\n",
       "      <td>NaN</td>\n",
       "      <td>NaN</td>\n",
       "      <td>NaN</td>\n",
       "    </tr>\n",
       "    <tr>\n",
       "      <th>vehicleType</th>\n",
       "      <td>44905</td>\n",
       "      <td>8</td>\n",
       "      <td>limousine</td>\n",
       "      <td>12859</td>\n",
       "      <td>NaN</td>\n",
       "      <td>NaN</td>\n",
       "      <td>NaN</td>\n",
       "      <td>NaN</td>\n",
       "      <td>NaN</td>\n",
       "      <td>NaN</td>\n",
       "      <td>NaN</td>\n",
       "    </tr>\n",
       "    <tr>\n",
       "      <th>yearOfRegistration</th>\n",
       "      <td>50000.0</td>\n",
       "      <td>NaN</td>\n",
       "      <td>NaN</td>\n",
       "      <td>NaN</td>\n",
       "      <td>2005.07328</td>\n",
       "      <td>105.712813</td>\n",
       "      <td>1000.0</td>\n",
       "      <td>1999.0</td>\n",
       "      <td>2003.0</td>\n",
       "      <td>2008.0</td>\n",
       "      <td>9999.0</td>\n",
       "    </tr>\n",
       "    <tr>\n",
       "      <th>gearbox</th>\n",
       "      <td>47320</td>\n",
       "      <td>2</td>\n",
       "      <td>manuell</td>\n",
       "      <td>36993</td>\n",
       "      <td>NaN</td>\n",
       "      <td>NaN</td>\n",
       "      <td>NaN</td>\n",
       "      <td>NaN</td>\n",
       "      <td>NaN</td>\n",
       "      <td>NaN</td>\n",
       "      <td>NaN</td>\n",
       "    </tr>\n",
       "    <tr>\n",
       "      <th>powerPS</th>\n",
       "      <td>50000.0</td>\n",
       "      <td>NaN</td>\n",
       "      <td>NaN</td>\n",
       "      <td>NaN</td>\n",
       "      <td>116.35592</td>\n",
       "      <td>209.216627</td>\n",
       "      <td>0.0</td>\n",
       "      <td>70.0</td>\n",
       "      <td>105.0</td>\n",
       "      <td>150.0</td>\n",
       "      <td>17700.0</td>\n",
       "    </tr>\n",
       "    <tr>\n",
       "      <th>model</th>\n",
       "      <td>47242</td>\n",
       "      <td>245</td>\n",
       "      <td>golf</td>\n",
       "      <td>4024</td>\n",
       "      <td>NaN</td>\n",
       "      <td>NaN</td>\n",
       "      <td>NaN</td>\n",
       "      <td>NaN</td>\n",
       "      <td>NaN</td>\n",
       "      <td>NaN</td>\n",
       "      <td>NaN</td>\n",
       "    </tr>\n",
       "    <tr>\n",
       "      <th>odometer</th>\n",
       "      <td>50000</td>\n",
       "      <td>13</td>\n",
       "      <td>150,000km</td>\n",
       "      <td>32424</td>\n",
       "      <td>NaN</td>\n",
       "      <td>NaN</td>\n",
       "      <td>NaN</td>\n",
       "      <td>NaN</td>\n",
       "      <td>NaN</td>\n",
       "      <td>NaN</td>\n",
       "      <td>NaN</td>\n",
       "    </tr>\n",
       "    <tr>\n",
       "      <th>monthOfRegistration</th>\n",
       "      <td>50000.0</td>\n",
       "      <td>NaN</td>\n",
       "      <td>NaN</td>\n",
       "      <td>NaN</td>\n",
       "      <td>5.72336</td>\n",
       "      <td>3.711984</td>\n",
       "      <td>0.0</td>\n",
       "      <td>3.0</td>\n",
       "      <td>6.0</td>\n",
       "      <td>9.0</td>\n",
       "      <td>12.0</td>\n",
       "    </tr>\n",
       "    <tr>\n",
       "      <th>fuelType</th>\n",
       "      <td>45518</td>\n",
       "      <td>7</td>\n",
       "      <td>benzin</td>\n",
       "      <td>30107</td>\n",
       "      <td>NaN</td>\n",
       "      <td>NaN</td>\n",
       "      <td>NaN</td>\n",
       "      <td>NaN</td>\n",
       "      <td>NaN</td>\n",
       "      <td>NaN</td>\n",
       "      <td>NaN</td>\n",
       "    </tr>\n",
       "    <tr>\n",
       "      <th>brand</th>\n",
       "      <td>50000</td>\n",
       "      <td>40</td>\n",
       "      <td>volkswagen</td>\n",
       "      <td>10687</td>\n",
       "      <td>NaN</td>\n",
       "      <td>NaN</td>\n",
       "      <td>NaN</td>\n",
       "      <td>NaN</td>\n",
       "      <td>NaN</td>\n",
       "      <td>NaN</td>\n",
       "      <td>NaN</td>\n",
       "    </tr>\n",
       "    <tr>\n",
       "      <th>notRepairedDamage</th>\n",
       "      <td>40171</td>\n",
       "      <td>2</td>\n",
       "      <td>nein</td>\n",
       "      <td>35232</td>\n",
       "      <td>NaN</td>\n",
       "      <td>NaN</td>\n",
       "      <td>NaN</td>\n",
       "      <td>NaN</td>\n",
       "      <td>NaN</td>\n",
       "      <td>NaN</td>\n",
       "      <td>NaN</td>\n",
       "    </tr>\n",
       "    <tr>\n",
       "      <th>dateCreated</th>\n",
       "      <td>50000</td>\n",
       "      <td>76</td>\n",
       "      <td>2016-04-03 00:00:00</td>\n",
       "      <td>1946</td>\n",
       "      <td>NaN</td>\n",
       "      <td>NaN</td>\n",
       "      <td>NaN</td>\n",
       "      <td>NaN</td>\n",
       "      <td>NaN</td>\n",
       "      <td>NaN</td>\n",
       "      <td>NaN</td>\n",
       "    </tr>\n",
       "    <tr>\n",
       "      <th>nrOfPictures</th>\n",
       "      <td>50000.0</td>\n",
       "      <td>NaN</td>\n",
       "      <td>NaN</td>\n",
       "      <td>NaN</td>\n",
       "      <td>0.0</td>\n",
       "      <td>0.0</td>\n",
       "      <td>0.0</td>\n",
       "      <td>0.0</td>\n",
       "      <td>0.0</td>\n",
       "      <td>0.0</td>\n",
       "      <td>0.0</td>\n",
       "    </tr>\n",
       "    <tr>\n",
       "      <th>postalCode</th>\n",
       "      <td>50000.0</td>\n",
       "      <td>NaN</td>\n",
       "      <td>NaN</td>\n",
       "      <td>NaN</td>\n",
       "      <td>50813.6273</td>\n",
       "      <td>25779.747957</td>\n",
       "      <td>1067.0</td>\n",
       "      <td>30451.0</td>\n",
       "      <td>49577.0</td>\n",
       "      <td>71540.0</td>\n",
       "      <td>99998.0</td>\n",
       "    </tr>\n",
       "    <tr>\n",
       "      <th>lastSeen</th>\n",
       "      <td>50000</td>\n",
       "      <td>39481</td>\n",
       "      <td>2016-04-07 06:17:27</td>\n",
       "      <td>8</td>\n",
       "      <td>NaN</td>\n",
       "      <td>NaN</td>\n",
       "      <td>NaN</td>\n",
       "      <td>NaN</td>\n",
       "      <td>NaN</td>\n",
       "      <td>NaN</td>\n",
       "      <td>NaN</td>\n",
       "    </tr>\n",
       "  </tbody>\n",
       "</table>\n",
       "</div>"
      ],
      "text/plain": [
       "                       count unique                  top   freq        mean  \\\n",
       "dateCrawled            50000  48213  2016-04-02 11:37:04      3         NaN   \n",
       "name                   50000  38754          Ford_Fiesta     78         NaN   \n",
       "seller                 50000      2               privat  49999         NaN   \n",
       "offerType              50000      2              Angebot  49999         NaN   \n",
       "price                  50000   2357                   $0   1421         NaN   \n",
       "abtest                 50000      2                 test  25756         NaN   \n",
       "vehicleType            44905      8            limousine  12859         NaN   \n",
       "yearOfRegistration   50000.0    NaN                  NaN    NaN  2005.07328   \n",
       "gearbox                47320      2              manuell  36993         NaN   \n",
       "powerPS              50000.0    NaN                  NaN    NaN   116.35592   \n",
       "model                  47242    245                 golf   4024         NaN   \n",
       "odometer               50000     13            150,000km  32424         NaN   \n",
       "monthOfRegistration  50000.0    NaN                  NaN    NaN     5.72336   \n",
       "fuelType               45518      7               benzin  30107         NaN   \n",
       "brand                  50000     40           volkswagen  10687         NaN   \n",
       "notRepairedDamage      40171      2                 nein  35232         NaN   \n",
       "dateCreated            50000     76  2016-04-03 00:00:00   1946         NaN   \n",
       "nrOfPictures         50000.0    NaN                  NaN    NaN         0.0   \n",
       "postalCode           50000.0    NaN                  NaN    NaN  50813.6273   \n",
       "lastSeen               50000  39481  2016-04-07 06:17:27      8         NaN   \n",
       "\n",
       "                              std     min      25%      50%      75%      max  \n",
       "dateCrawled                   NaN     NaN      NaN      NaN      NaN      NaN  \n",
       "name                          NaN     NaN      NaN      NaN      NaN      NaN  \n",
       "seller                        NaN     NaN      NaN      NaN      NaN      NaN  \n",
       "offerType                     NaN     NaN      NaN      NaN      NaN      NaN  \n",
       "price                         NaN     NaN      NaN      NaN      NaN      NaN  \n",
       "abtest                        NaN     NaN      NaN      NaN      NaN      NaN  \n",
       "vehicleType                   NaN     NaN      NaN      NaN      NaN      NaN  \n",
       "yearOfRegistration     105.712813  1000.0   1999.0   2003.0   2008.0   9999.0  \n",
       "gearbox                       NaN     NaN      NaN      NaN      NaN      NaN  \n",
       "powerPS                209.216627     0.0     70.0    105.0    150.0  17700.0  \n",
       "model                         NaN     NaN      NaN      NaN      NaN      NaN  \n",
       "odometer                      NaN     NaN      NaN      NaN      NaN      NaN  \n",
       "monthOfRegistration      3.711984     0.0      3.0      6.0      9.0     12.0  \n",
       "fuelType                      NaN     NaN      NaN      NaN      NaN      NaN  \n",
       "brand                         NaN     NaN      NaN      NaN      NaN      NaN  \n",
       "notRepairedDamage             NaN     NaN      NaN      NaN      NaN      NaN  \n",
       "dateCreated                   NaN     NaN      NaN      NaN      NaN      NaN  \n",
       "nrOfPictures                  0.0     0.0      0.0      0.0      0.0      0.0  \n",
       "postalCode           25779.747957  1067.0  30451.0  49577.0  71540.0  99998.0  \n",
       "lastSeen                      NaN     NaN      NaN      NaN      NaN      NaN  "
      ]
     },
     "execution_count": 4,
     "metadata": {},
     "output_type": "execute_result"
    }
   ],
   "source": [
    "autos.describe(include=\"all\").T"
   ]
  },
  {
   "cell_type": "markdown",
   "id": "b6b76930",
   "metadata": {},
   "source": [
    "## **Checking the Null Values** "
   ]
  },
  {
   "cell_type": "code",
   "execution_count": 5,
   "id": "6971d4f8",
   "metadata": {},
   "outputs": [
    {
     "data": {
      "image/png": "[encoded data removed]",
      "text/plain": [
       "<Figure size 432x288 with 2 Axes>"
      ]
     },
     "metadata": {},
     "output_type": "display_data"
    }
   ],
   "source": [
    "sns.heatmap(autos.isna())\n",
    "plt.show()"
   ]
  },
  {
   "cell_type": "markdown",
   "id": "04b5e1e0",
   "metadata": {},
   "source": [
    "## **Dropping the columns from the dataset**"
   ]
  },
  {
   "cell_type": "code",
   "execution_count": 6,
   "id": "1277d26d",
   "metadata": {},
   "outputs": [],
   "source": [
    "autos.drop([\"seller\",\"offerType\",\"nrOfPictures\"],axis = 1,inplace = True)"
   ]
  },
  {
   "cell_type": "markdown",
   "id": "f15f3d3c",
   "metadata": {},
   "source": [
    "## **Converting the \"dateCrawled\" datatype into datetime**"
   ]
  },
  {
   "cell_type": "code",
   "execution_count": 7,
   "id": "8a647e68",
   "metadata": {},
   "outputs": [],
   "source": [
    "autos[\"dateCrawled\"] = pd.to_datetime(autos[\"dateCrawled\"])"
   ]
  },
  {
   "cell_type": "code",
   "execution_count": 8,
   "id": "ca740f59",
   "metadata": {},
   "outputs": [
    {
     "data": {
      "text/plain": [
       "Timestamp('2016-04-07 14:36:56')"
      ]
     },
     "execution_count": 8,
     "metadata": {},
     "output_type": "execute_result"
    }
   ],
   "source": [
    "autos[\"dateCrawled\"].max()"
   ]
  },
  {
   "cell_type": "markdown",
   "id": "215eb0c8",
   "metadata": {},
   "source": [
    "## **Cleaning the data**"
   ]
  },
  {
   "cell_type": "code",
   "execution_count": 9,
   "id": "63078a0a",
   "metadata": {},
   "outputs": [],
   "source": [
    "autos[\"price\"] = autos[\"price\"].str.strip(\"$\").str.replace(\",\",\"\").astype(float)"
   ]
  },
  {
   "cell_type": "code",
   "execution_count": 10,
   "id": "4f527ac4",
   "metadata": {},
   "outputs": [],
   "source": [
    "autos[\"odometer\"] = autos[\"odometer\"].str.strip(\"km\").str.replace(\",\",\"\").astype(float)"
   ]
  },
  {
   "cell_type": "code",
   "execution_count": 11,
   "id": "279ffea9",
   "metadata": {},
   "outputs": [
    {
     "name": "stdout",
     "output_type": "stream",
     "text": [
      "<class 'pandas.core.frame.DataFrame'>\n",
      "RangeIndex: 50000 entries, 0 to 49999\n",
      "Data columns (total 17 columns):\n",
      " #   Column               Non-Null Count  Dtype         \n",
      "---  ------               --------------  -----         \n",
      " 0   dateCrawled          50000 non-null  datetime64[ns]\n",
      " 1   name                 50000 non-null  object        \n",
      " 2   price                50000 non-null  float64       \n",
      " 3   abtest               50000 non-null  object        \n",
      " 4   vehicleType          44905 non-null  object        \n",
      " 5   yearOfRegistration   50000 non-null  int64         \n",
      " 6   gearbox              47320 non-null  object        \n",
      " 7   powerPS              50000 non-null  int64         \n",
      " 8   model                47242 non-null  object        \n",
      " 9   odometer             50000 non-null  float64       \n",
      " 10  monthOfRegistration  50000 non-null  int64         \n",
      " 11  fuelType             45518 non-null  object        \n",
      " 12  brand                50000 non-null  object        \n",
      " 13  notRepairedDamage    40171 non-null  object        \n",
      " 14  dateCreated          50000 non-null  object        \n",
      " 15  postalCode           50000 non-null  int64         \n",
      " 16  lastSeen             50000 non-null  object        \n",
      "dtypes: datetime64[ns](1), float64(2), int64(4), object(10)\n",
      "memory usage: 6.5+ MB\n"
     ]
    }
   ],
   "source": [
    "autos.info()"
   ]
  },
  {
   "cell_type": "code",
   "execution_count": 12,
   "id": "6fc976c4",
   "metadata": {},
   "outputs": [
    {
     "data": {
      "text/plain": [
       "1000    1\n",
       "1001    1\n",
       "1111    1\n",
       "1500    1\n",
       "1800    2\n",
       "1910    9\n",
       "1927    1\n",
       "1929    1\n",
       "1931    1\n",
       "1934    2\n",
       "Name: yearOfRegistration, dtype: int64"
      ]
     },
     "execution_count": 12,
     "metadata": {},
     "output_type": "execute_result"
    }
   ],
   "source": [
    "autos[\"yearOfRegistration\"].value_counts().sort_index().head(10)"
   ]
  },
  {
   "cell_type": "code",
   "execution_count": 13,
   "id": "8441c93a",
   "metadata": {},
   "outputs": [
    {
     "data": {
      "text/plain": [
       "2016    1316\n",
       "2017    1453\n",
       "2018     492\n",
       "2019       3\n",
       "2800       1\n",
       "4100       1\n",
       "4500       1\n",
       "4800       1\n",
       "5000       4\n",
       "5911       1\n",
       "6200       1\n",
       "8888       1\n",
       "9000       2\n",
       "9996       1\n",
       "9999       4\n",
       "Name: yearOfRegistration, dtype: int64"
      ]
     },
     "execution_count": 13,
     "metadata": {},
     "output_type": "execute_result"
    }
   ],
   "source": [
    "autos[\"yearOfRegistration\"].value_counts().sort_index().tail(15)"
   ]
  },
  {
   "cell_type": "code",
   "execution_count": 14,
   "id": "df0ad93c",
   "metadata": {},
   "outputs": [
    {
     "data": {
      "text/plain": [
       "48028"
      ]
     },
     "execution_count": 14,
     "metadata": {},
     "output_type": "execute_result"
    }
   ],
   "source": [
    "autos[\"yearOfRegistration\"].between(1900,2016).sum()"
   ]
  },
  {
   "cell_type": "code",
   "execution_count": 15,
   "id": "3cc873d1",
   "metadata": {},
   "outputs": [
    {
     "name": "stdout",
     "output_type": "stream",
     "text": [
      "1972\n",
      "3.944\n"
     ]
    }
   ],
   "source": [
    "# manually calculation\n",
    "total_minus = 50000 - 48028\n",
    "print(total_minus)\n",
    "# taking out the percentage\n",
    "div = total_minus * 100 / 50000\n",
    "print(div)"
   ]
  },
  {
   "cell_type": "code",
   "execution_count": 16,
   "id": "df53fe04",
   "metadata": {},
   "outputs": [
    {
     "data": {
      "text/plain": [
       "1972"
      ]
     },
     "execution_count": 16,
     "metadata": {},
     "output_type": "execute_result"
    }
   ],
   "source": [
    "(~autos[\"yearOfRegistration\"].between(1900,2016)).sum()"
   ]
  },
  {
   "cell_type": "code",
   "execution_count": 17,
   "id": "d99dd610",
   "metadata": {},
   "outputs": [
    {
     "data": {
      "text/plain": [
       "3.944"
      ]
     },
     "execution_count": 17,
     "metadata": {},
     "output_type": "execute_result"
    }
   ],
   "source": [
    "(~autos[\"yearOfRegistration\"].between(1900,2016)).sum()*100/autos.shape[0]"
   ]
  },
  {
   "cell_type": "code",
   "execution_count": 18,
   "id": "c08526fc",
   "metadata": {},
   "outputs": [],
   "source": [
    "bol_reg = autos[\"yearOfRegistration\"].between(1900,2016)"
   ]
  },
  {
   "cell_type": "code",
   "execution_count": 19,
   "id": "507742d7",
   "metadata": {},
   "outputs": [],
   "source": [
    "corrected_autos = autos[bol_reg].copy()"
   ]
  },
  {
   "cell_type": "code",
   "execution_count": 20,
   "id": "a3ee89d4",
   "metadata": {},
   "outputs": [
    {
     "data": {
      "text/plain": [
       "1910"
      ]
     },
     "execution_count": 20,
     "metadata": {},
     "output_type": "execute_result"
    }
   ],
   "source": [
    "corrected_autos[\"yearOfRegistration\"].min()"
   ]
  },
  {
   "cell_type": "code",
   "execution_count": 21,
   "id": "38e2abef",
   "metadata": {},
   "outputs": [
    {
     "data": {
      "text/plain": [
       "2016"
      ]
     },
     "execution_count": 21,
     "metadata": {},
     "output_type": "execute_result"
    }
   ],
   "source": [
    "corrected_autos[\"yearOfRegistration\"].max()"
   ]
  },
  {
   "cell_type": "code",
   "execution_count": 22,
   "id": "a343c05b",
   "metadata": {},
   "outputs": [
    {
     "data": {
      "text/plain": [
       "count    4.802800e+04\n",
       "mean     9.585252e+03\n",
       "std      4.843817e+05\n",
       "min      0.000000e+00\n",
       "25%      1.150000e+03\n",
       "50%      2.990000e+03\n",
       "75%      7.400000e+03\n",
       "max      1.000000e+08\n",
       "Name: price, dtype: float64"
      ]
     },
     "execution_count": 22,
     "metadata": {},
     "output_type": "execute_result"
    }
   ],
   "source": [
    "corrected_autos[\"price\"].describe()"
   ]
  },
  {
   "cell_type": "code",
   "execution_count": 23,
   "id": "e677bc3f",
   "metadata": {},
   "outputs": [
    {
     "data": {
      "text/plain": [
       "0.0           1335\n",
       "1.0            150\n",
       "2.0              2\n",
       "3.0              1\n",
       "5.0              2\n",
       "              ... \n",
       "10000000.0       1\n",
       "11111111.0       2\n",
       "12345678.0       1\n",
       "27322222.0       1\n",
       "99999999.0       1\n",
       "Name: price, Length: 2334, dtype: int64"
      ]
     },
     "execution_count": 23,
     "metadata": {},
     "output_type": "execute_result"
    }
   ],
   "source": [
    "corrected_autos[\"price\"].value_counts().sort_index()"
   ]
  },
  {
   "cell_type": "code",
   "execution_count": 24,
   "id": "2f59f6d3",
   "metadata": {},
   "outputs": [
    {
     "data": {
      "text/plain": [
       "265000.0      1\n",
       "295000.0      1\n",
       "299000.0      1\n",
       "345000.0      1\n",
       "350000.0      1\n",
       "999990.0      1\n",
       "999999.0      2\n",
       "1234566.0     1\n",
       "1300000.0     1\n",
       "3890000.0     1\n",
       "10000000.0    1\n",
       "11111111.0    2\n",
       "12345678.0    1\n",
       "27322222.0    1\n",
       "99999999.0    1\n",
       "Name: price, dtype: int64"
      ]
     },
     "execution_count": 24,
     "metadata": {},
     "output_type": "execute_result"
    }
   ],
   "source": [
    "corrected_autos[\"price\"].value_counts().sort_index().tail(15)"
   ]
  },
  {
   "cell_type": "code",
   "execution_count": 25,
   "id": "0797537b",
   "metadata": {},
   "outputs": [],
   "source": [
    "price_bol = corrected_autos[\"price\"].between(1,350000)"
   ]
  },
  {
   "cell_type": "code",
   "execution_count": 26,
   "id": "da6d38e2",
   "metadata": {},
   "outputs": [],
   "source": [
    "cleaned = corrected_autos[price_bol].copy()"
   ]
  },
  {
   "cell_type": "code",
   "execution_count": 27,
   "id": "6eb52d86",
   "metadata": {},
   "outputs": [
    {
     "data": {
      "text/plain": [
       "1.0"
      ]
     },
     "execution_count": 27,
     "metadata": {},
     "output_type": "execute_result"
    }
   ],
   "source": [
    "cleaned[\"price\"].min()"
   ]
  },
  {
   "cell_type": "code",
   "execution_count": 28,
   "id": "2d797e28",
   "metadata": {},
   "outputs": [
    {
     "data": {
      "text/plain": [
       "350000.0"
      ]
     },
     "execution_count": 28,
     "metadata": {},
     "output_type": "execute_result"
    }
   ],
   "source": [
    "cleaned[\"price\"].max()"
   ]
  },
  {
   "cell_type": "code",
   "execution_count": 29,
   "id": "bc39b577",
   "metadata": {},
   "outputs": [
    {
     "data": {
      "text/plain": [
       "2.8046139751811445"
      ]
     },
     "execution_count": 29,
     "metadata": {},
     "output_type": "execute_result"
    }
   ],
   "source": [
    "(corrected_autos.shape[0] - cleaned.shape[0]) * 100 / corrected_autos.shape[0]"
   ]
  },
  {
   "cell_type": "code",
   "execution_count": 30,
   "id": "4519126d",
   "metadata": {},
   "outputs": [
    {
     "data": {
      "text/plain": [
       "(46681, 17)"
      ]
     },
     "execution_count": 30,
     "metadata": {},
     "output_type": "execute_result"
    }
   ],
   "source": [
    "cleaned.shape"
   ]
  },
  {
   "cell_type": "code",
   "execution_count": 31,
   "id": "ad184324",
   "metadata": {},
   "outputs": [
    {
     "name": "stdout",
     "output_type": "stream",
     "text": [
      "<class 'pandas.core.frame.DataFrame'>\n",
      "Int64Index: 46681 entries, 0 to 49999\n",
      "Data columns (total 17 columns):\n",
      " #   Column               Non-Null Count  Dtype         \n",
      "---  ------               --------------  -----         \n",
      " 0   dateCrawled          46681 non-null  datetime64[ns]\n",
      " 1   name                 46681 non-null  object        \n",
      " 2   price                46681 non-null  float64       \n",
      " 3   abtest               46681 non-null  object        \n",
      " 4   vehicleType          43977 non-null  object        \n",
      " 5   yearOfRegistration   46681 non-null  int64         \n",
      " 6   gearbox              44571 non-null  object        \n",
      " 7   powerPS              46681 non-null  int64         \n",
      " 8   model                44488 non-null  object        \n",
      " 9   odometer             46681 non-null  float64       \n",
      " 10  monthOfRegistration  46681 non-null  int64         \n",
      " 11  fuelType             43363 non-null  object        \n",
      " 12  brand                46681 non-null  object        \n",
      " 13  notRepairedDamage    38374 non-null  object        \n",
      " 14  dateCreated          46681 non-null  object        \n",
      " 15  postalCode           46681 non-null  int64         \n",
      " 16  lastSeen             46681 non-null  object        \n",
      "dtypes: datetime64[ns](1), float64(2), int64(4), object(10)\n",
      "memory usage: 6.4+ MB\n"
     ]
    }
   ],
   "source": [
    "cleaned.info()"
   ]
  },
  {
   "cell_type": "code",
   "execution_count": 32,
   "id": "55c5b2e1",
   "metadata": {},
   "outputs": [],
   "source": [
    "norm_brands = cleaned[\"brand\"].value_counts(normalize = True)*100"
   ]
  },
  {
   "cell_type": "code",
   "execution_count": 33,
   "id": "3c546b85",
   "metadata": {},
   "outputs": [
    {
     "data": {
      "text/plain": [
       "volkswagen       21.126368\n",
       "bmw              11.004477\n",
       "opel             10.758124\n",
       "mercedes_benz     9.646323\n",
       "audi              8.656627\n",
       "ford              6.989996\n",
       "Name: brand, dtype: float64"
      ]
     },
     "execution_count": 33,
     "metadata": {},
     "output_type": "execute_result"
    }
   ],
   "source": [
    "bol = norm_brands > 5\n",
    "common_brand = norm_brands[bol]\n",
    "common_brand"
   ]
  },
  {
   "cell_type": "code",
   "execution_count": 34,
   "id": "2796cefb",
   "metadata": {},
   "outputs": [
    {
     "data": {
      "text/plain": [
       "Index(['volkswagen', 'bmw', 'opel', 'mercedes_benz', 'audi', 'ford'], dtype='object')"
      ]
     },
     "execution_count": 34,
     "metadata": {},
     "output_type": "execute_result"
    }
   ],
   "source": [
    "common_brand.index"
   ]
  },
  {
   "cell_type": "code",
   "execution_count": 35,
   "id": "5a406d6f",
   "metadata": {},
   "outputs": [],
   "source": [
    "brand_bol = cleaned[\"brand\"].isin(common_brand.index)"
   ]
  },
  {
   "cell_type": "code",
   "execution_count": 36,
   "id": "6c14db41",
   "metadata": {},
   "outputs": [],
   "source": [
    "popular_brand = cleaned[brand_bol].copy()"
   ]
  },
  {
   "cell_type": "code",
   "execution_count": 37,
   "id": "6be435fb",
   "metadata": {},
   "outputs": [
    {
     "data": {
      "text/plain": [
       "volkswagen       9862\n",
       "bmw              5137\n",
       "opel             5022\n",
       "mercedes_benz    4503\n",
       "audi             4041\n",
       "ford             3263\n",
       "Name: brand, dtype: int64"
      ]
     },
     "execution_count": 37,
     "metadata": {},
     "output_type": "execute_result"
    }
   ],
   "source": [
    "popular_brand[\"brand\"].value_counts()"
   ]
  },
  {
   "cell_type": "code",
   "execution_count": 38,
   "id": "0ac4b2a8",
   "metadata": {},
   "outputs": [
    {
     "data": {
      "text/plain": [
       "(31828, 17)"
      ]
     },
     "execution_count": 38,
     "metadata": {},
     "output_type": "execute_result"
    }
   ],
   "source": [
    "popular_brand.shape"
   ]
  },
  {
   "cell_type": "code",
   "execution_count": 39,
   "id": "daae84b0",
   "metadata": {},
   "outputs": [
    {
     "name": "stdout",
     "output_type": "stream",
     "text": [
      "<class 'pandas.core.frame.DataFrame'>\n",
      "Int64Index: 31828 entries, 1 to 49999\n",
      "Data columns (total 17 columns):\n",
      " #   Column               Non-Null Count  Dtype         \n",
      "---  ------               --------------  -----         \n",
      " 0   dateCrawled          31828 non-null  datetime64[ns]\n",
      " 1   name                 31828 non-null  object        \n",
      " 2   price                31828 non-null  float64       \n",
      " 3   abtest               31828 non-null  object        \n",
      " 4   vehicleType          30015 non-null  object        \n",
      " 5   yearOfRegistration   31828 non-null  int64         \n",
      " 6   gearbox              30494 non-null  object        \n",
      " 7   powerPS              31828 non-null  int64         \n",
      " 8   model                30679 non-null  object        \n",
      " 9   odometer             31828 non-null  float64       \n",
      " 10  monthOfRegistration  31828 non-null  int64         \n",
      " 11  fuelType             29629 non-null  object        \n",
      " 12  brand                31828 non-null  object        \n",
      " 13  notRepairedDamage    26053 non-null  object        \n",
      " 14  dateCreated          31828 non-null  object        \n",
      " 15  postalCode           31828 non-null  int64         \n",
      " 16  lastSeen             31828 non-null  object        \n",
      "dtypes: datetime64[ns](1), float64(2), int64(4), object(10)\n",
      "memory usage: 4.4+ MB\n"
     ]
    }
   ],
   "source": [
    "popular_brand.info()"
   ]
  },
  {
   "cell_type": "code",
   "execution_count": 40,
   "id": "b8b8a480",
   "metadata": {},
   "outputs": [
    {
     "data": {
      "text/html": [
       "<div>\n",
       "<style scoped>\n",
       "    .dataframe tbody tr th:only-of-type {\n",
       "        vertical-align: middle;\n",
       "    }\n",
       "\n",
       "    .dataframe tbody tr th {\n",
       "        vertical-align: top;\n",
       "    }\n",
       "\n",
       "    .dataframe thead th {\n",
       "        text-align: right;\n",
       "    }\n",
       "</style>\n",
       "<table border=\"1\" class=\"dataframe\">\n",
       "  <thead>\n",
       "    <tr style=\"text-align: right;\">\n",
       "      <th></th>\n",
       "      <th>dateCrawled</th>\n",
       "      <th>name</th>\n",
       "      <th>price</th>\n",
       "      <th>abtest</th>\n",
       "      <th>vehicleType</th>\n",
       "      <th>yearOfRegistration</th>\n",
       "      <th>gearbox</th>\n",
       "      <th>powerPS</th>\n",
       "      <th>model</th>\n",
       "      <th>odometer</th>\n",
       "      <th>monthOfRegistration</th>\n",
       "      <th>fuelType</th>\n",
       "      <th>brand</th>\n",
       "      <th>notRepairedDamage</th>\n",
       "      <th>dateCreated</th>\n",
       "      <th>postalCode</th>\n",
       "      <th>lastSeen</th>\n",
       "    </tr>\n",
       "  </thead>\n",
       "  <tbody>\n",
       "    <tr>\n",
       "      <th>1</th>\n",
       "      <td>2016-04-04 13:38:56</td>\n",
       "      <td>BMW_740i_4_4_Liter_HAMANN_UMBAU_Mega_Optik</td>\n",
       "      <td>8500.0</td>\n",
       "      <td>control</td>\n",
       "      <td>limousine</td>\n",
       "      <td>1997</td>\n",
       "      <td>automatik</td>\n",
       "      <td>286</td>\n",
       "      <td>7er</td>\n",
       "      <td>150000.0</td>\n",
       "      <td>6</td>\n",
       "      <td>benzin</td>\n",
       "      <td>bmw</td>\n",
       "      <td>nein</td>\n",
       "      <td>2016-04-04 00:00:00</td>\n",
       "      <td>71034</td>\n",
       "      <td>2016-04-06 14:45:08</td>\n",
       "    </tr>\n",
       "    <tr>\n",
       "      <th>2</th>\n",
       "      <td>2016-03-26 18:57:24</td>\n",
       "      <td>Volkswagen_Golf_1.6_United</td>\n",
       "      <td>8990.0</td>\n",
       "      <td>test</td>\n",
       "      <td>limousine</td>\n",
       "      <td>2009</td>\n",
       "      <td>manuell</td>\n",
       "      <td>102</td>\n",
       "      <td>golf</td>\n",
       "      <td>70000.0</td>\n",
       "      <td>7</td>\n",
       "      <td>benzin</td>\n",
       "      <td>volkswagen</td>\n",
       "      <td>nein</td>\n",
       "      <td>2016-03-26 00:00:00</td>\n",
       "      <td>35394</td>\n",
       "      <td>2016-04-06 20:15:37</td>\n",
       "    </tr>\n",
       "    <tr>\n",
       "      <th>4</th>\n",
       "      <td>2016-04-01 14:38:50</td>\n",
       "      <td>Ford_Focus_1_6_Benzin_TÜV_neu_ist_sehr_gepfleg...</td>\n",
       "      <td>1350.0</td>\n",
       "      <td>test</td>\n",
       "      <td>kombi</td>\n",
       "      <td>2003</td>\n",
       "      <td>manuell</td>\n",
       "      <td>0</td>\n",
       "      <td>focus</td>\n",
       "      <td>150000.0</td>\n",
       "      <td>7</td>\n",
       "      <td>benzin</td>\n",
       "      <td>ford</td>\n",
       "      <td>nein</td>\n",
       "      <td>2016-04-01 00:00:00</td>\n",
       "      <td>39218</td>\n",
       "      <td>2016-04-01 14:38:50</td>\n",
       "    </tr>\n",
       "    <tr>\n",
       "      <th>6</th>\n",
       "      <td>2016-03-20 17:55:21</td>\n",
       "      <td>VW_Golf_III_GT_Special_Electronic_Green_Metall...</td>\n",
       "      <td>300.0</td>\n",
       "      <td>test</td>\n",
       "      <td>limousine</td>\n",
       "      <td>1995</td>\n",
       "      <td>manuell</td>\n",
       "      <td>90</td>\n",
       "      <td>golf</td>\n",
       "      <td>150000.0</td>\n",
       "      <td>8</td>\n",
       "      <td>benzin</td>\n",
       "      <td>volkswagen</td>\n",
       "      <td>NaN</td>\n",
       "      <td>2016-03-20 00:00:00</td>\n",
       "      <td>31535</td>\n",
       "      <td>2016-03-23 02:48:59</td>\n",
       "    </tr>\n",
       "    <tr>\n",
       "      <th>7</th>\n",
       "      <td>2016-03-16 18:55:19</td>\n",
       "      <td>Golf_IV_1.9_TDI_90PS</td>\n",
       "      <td>1990.0</td>\n",
       "      <td>control</td>\n",
       "      <td>limousine</td>\n",
       "      <td>1998</td>\n",
       "      <td>manuell</td>\n",
       "      <td>90</td>\n",
       "      <td>golf</td>\n",
       "      <td>150000.0</td>\n",
       "      <td>12</td>\n",
       "      <td>diesel</td>\n",
       "      <td>volkswagen</td>\n",
       "      <td>nein</td>\n",
       "      <td>2016-03-16 00:00:00</td>\n",
       "      <td>53474</td>\n",
       "      <td>2016-04-07 03:17:32</td>\n",
       "    </tr>\n",
       "  </tbody>\n",
       "</table>\n",
       "</div>"
      ],
      "text/plain": [
       "          dateCrawled                                               name  \\\n",
       "1 2016-04-04 13:38:56         BMW_740i_4_4_Liter_HAMANN_UMBAU_Mega_Optik   \n",
       "2 2016-03-26 18:57:24                         Volkswagen_Golf_1.6_United   \n",
       "4 2016-04-01 14:38:50  Ford_Focus_1_6_Benzin_TÜV_neu_ist_sehr_gepfleg...   \n",
       "6 2016-03-20 17:55:21  VW_Golf_III_GT_Special_Electronic_Green_Metall...   \n",
       "7 2016-03-16 18:55:19                               Golf_IV_1.9_TDI_90PS   \n",
       "\n",
       "    price   abtest vehicleType  yearOfRegistration    gearbox  powerPS  model  \\\n",
       "1  8500.0  control   limousine                1997  automatik      286    7er   \n",
       "2  8990.0     test   limousine                2009    manuell      102   golf   \n",
       "4  1350.0     test       kombi                2003    manuell        0  focus   \n",
       "6   300.0     test   limousine                1995    manuell       90   golf   \n",
       "7  1990.0  control   limousine                1998    manuell       90   golf   \n",
       "\n",
       "   odometer  monthOfRegistration fuelType       brand notRepairedDamage  \\\n",
       "1  150000.0                    6   benzin         bmw              nein   \n",
       "2   70000.0                    7   benzin  volkswagen              nein   \n",
       "4  150000.0                    7   benzin        ford              nein   \n",
       "6  150000.0                    8   benzin  volkswagen               NaN   \n",
       "7  150000.0                   12   diesel  volkswagen              nein   \n",
       "\n",
       "           dateCreated  postalCode             lastSeen  \n",
       "1  2016-04-04 00:00:00       71034  2016-04-06 14:45:08  \n",
       "2  2016-03-26 00:00:00       35394  2016-04-06 20:15:37  \n",
       "4  2016-04-01 00:00:00       39218  2016-04-01 14:38:50  \n",
       "6  2016-03-20 00:00:00       31535  2016-03-23 02:48:59  \n",
       "7  2016-03-16 00:00:00       53474  2016-04-07 03:17:32  "
      ]
     },
     "execution_count": 40,
     "metadata": {},
     "output_type": "execute_result"
    }
   ],
   "source": [
    "popular_brand.head()"
   ]
  },
  {
   "cell_type": "code",
   "execution_count": 41,
   "id": "a25244d5",
   "metadata": {},
   "outputs": [
    {
     "data": {
      "text/plain": [
       "brand\n",
       "audi             9336.687454\n",
       "mercedes_benz    8628.450366\n",
       "bmw              8332.820518\n",
       "volkswagen       5402.410262\n",
       "ford             3749.469507\n",
       "opel             2975.241935\n",
       "Name: price, dtype: float64"
      ]
     },
     "execution_count": 41,
     "metadata": {},
     "output_type": "execute_result"
    }
   ],
   "source": [
    "brand_mean_price = popular_brand.groupby(\"brand\")[\"price\"].mean().sort_values(ascending = False)\n",
    "brand_mean_price"
   ]
  },
  {
   "cell_type": "code",
   "execution_count": 42,
   "id": "ed4a6ce1",
   "metadata": {},
   "outputs": [
    {
     "data": {
      "text/plain": [
       "brand\n",
       "bmw              132572.513140\n",
       "mercedes_benz    130788.363313\n",
       "opel             129310.035842\n",
       "audi             129157.386785\n",
       "volkswagen       128707.158791\n",
       "ford             124266.012872\n",
       "Name: odometer, dtype: float64"
      ]
     },
     "execution_count": 42,
     "metadata": {},
     "output_type": "execute_result"
    }
   ],
   "source": [
    "brand_mean_mileage = popular_brand.groupby(\"brand\")[\"odometer\"].mean().sort_values(ascending = False)\n",
    "brand_mean_mileage"
   ]
  },
  {
   "cell_type": "code",
   "execution_count": 43,
   "id": "0884921d",
   "metadata": {},
   "outputs": [],
   "source": [
    "price_mil = pd.DataFrame(data = brand_mean_price)"
   ]
  },
  {
   "cell_type": "code",
   "execution_count": 44,
   "id": "3a913dfe",
   "metadata": {},
   "outputs": [],
   "source": [
    "price_mil.columns = [\"mean_price\"]"
   ]
  },
  {
   "cell_type": "code",
   "execution_count": 45,
   "id": "065b1436",
   "metadata": {},
   "outputs": [],
   "source": [
    "price_mil.index.name = None"
   ]
  },
  {
   "cell_type": "code",
   "execution_count": 46,
   "id": "6e9c64c3",
   "metadata": {},
   "outputs": [],
   "source": [
    "price_mil[\"mean_mileage\"] = brand_mean_mileage"
   ]
  },
  {
   "cell_type": "code",
   "execution_count": 47,
   "id": "5cadc55f",
   "metadata": {},
   "outputs": [
    {
     "data": {
      "text/html": [
       "<div>\n",
       "<style scoped>\n",
       "    .dataframe tbody tr th:only-of-type {\n",
       "        vertical-align: middle;\n",
       "    }\n",
       "\n",
       "    .dataframe tbody tr th {\n",
       "        vertical-align: top;\n",
       "    }\n",
       "\n",
       "    .dataframe thead th {\n",
       "        text-align: right;\n",
       "    }\n",
       "</style>\n",
       "<table border=\"1\" class=\"dataframe\">\n",
       "  <thead>\n",
       "    <tr style=\"text-align: right;\">\n",
       "      <th></th>\n",
       "      <th>mean_price</th>\n",
       "      <th>mean_mileage</th>\n",
       "    </tr>\n",
       "  </thead>\n",
       "  <tbody>\n",
       "    <tr>\n",
       "      <th>audi</th>\n",
       "      <td>9336.687454</td>\n",
       "      <td>129157.386785</td>\n",
       "    </tr>\n",
       "    <tr>\n",
       "      <th>mercedes_benz</th>\n",
       "      <td>8628.450366</td>\n",
       "      <td>130788.363313</td>\n",
       "    </tr>\n",
       "    <tr>\n",
       "      <th>bmw</th>\n",
       "      <td>8332.820518</td>\n",
       "      <td>132572.513140</td>\n",
       "    </tr>\n",
       "    <tr>\n",
       "      <th>volkswagen</th>\n",
       "      <td>5402.410262</td>\n",
       "      <td>128707.158791</td>\n",
       "    </tr>\n",
       "    <tr>\n",
       "      <th>ford</th>\n",
       "      <td>3749.469507</td>\n",
       "      <td>124266.012872</td>\n",
       "    </tr>\n",
       "    <tr>\n",
       "      <th>opel</th>\n",
       "      <td>2975.241935</td>\n",
       "      <td>129310.035842</td>\n",
       "    </tr>\n",
       "  </tbody>\n",
       "</table>\n",
       "</div>"
      ],
      "text/plain": [
       "                mean_price   mean_mileage\n",
       "audi           9336.687454  129157.386785\n",
       "mercedes_benz  8628.450366  130788.363313\n",
       "bmw            8332.820518  132572.513140\n",
       "volkswagen     5402.410262  128707.158791\n",
       "ford           3749.469507  124266.012872\n",
       "opel           2975.241935  129310.035842"
      ]
     },
     "execution_count": 47,
     "metadata": {},
     "output_type": "execute_result"
    }
   ],
   "source": [
    "price_mil"
   ]
  },
  {
   "cell_type": "code",
   "execution_count": 48,
   "id": "04d3d9d5",
   "metadata": {},
   "outputs": [
    {
     "data": {
      "image/png": "[encoded data removed]",
      "text/plain": [
       "<Figure size 432x288 with 1 Axes>"
      ]
     },
     "metadata": {},
     "output_type": "display_data"
    }
   ],
   "source": [
    "price_mil.plot.bar(fontsize = 15,color=['black', '#FF0066'])\n",
    "plt.show()"
   ]
  },
  {
   "cell_type": "code",
   "execution_count": 49,
   "id": "b9dc5e1e",
   "metadata": {},
   "outputs": [],
   "source": [
    "normalize = price_mil.copy()"
   ]
  },
  {
   "cell_type": "code",
   "execution_count": 50,
   "id": "d5649e37",
   "metadata": {},
   "outputs": [
    {
     "data": {
      "text/plain": [
       "Index(['mean_price', 'mean_mileage'], dtype='object')"
      ]
     },
     "execution_count": 50,
     "metadata": {},
     "output_type": "execute_result"
    }
   ],
   "source": [
    "cols = price_mil.columns\n",
    "cols"
   ]
  },
  {
   "cell_type": "code",
   "execution_count": 51,
   "id": "03f06242",
   "metadata": {},
   "outputs": [],
   "source": [
    "for norm in cols:\n",
    "    normalize[norm] = normalize[norm]/normalize[norm].sum()"
   ]
  },
  {
   "cell_type": "code",
   "execution_count": 52,
   "id": "81bab25a",
   "metadata": {},
   "outputs": [
    {
     "data": {
      "text/html": [
       "<div>\n",
       "<style scoped>\n",
       "    .dataframe tbody tr th:only-of-type {\n",
       "        vertical-align: middle;\n",
       "    }\n",
       "\n",
       "    .dataframe tbody tr th {\n",
       "        vertical-align: top;\n",
       "    }\n",
       "\n",
       "    .dataframe thead th {\n",
       "        text-align: right;\n",
       "    }\n",
       "</style>\n",
       "<table border=\"1\" class=\"dataframe\">\n",
       "  <thead>\n",
       "    <tr style=\"text-align: right;\">\n",
       "      <th></th>\n",
       "      <th>mean_price</th>\n",
       "      <th>mean_mileage</th>\n",
       "    </tr>\n",
       "  </thead>\n",
       "  <tbody>\n",
       "    <tr>\n",
       "      <th>audi</th>\n",
       "      <td>0.242984</td>\n",
       "      <td>0.166697</td>\n",
       "    </tr>\n",
       "    <tr>\n",
       "      <th>mercedes_benz</th>\n",
       "      <td>0.224553</td>\n",
       "      <td>0.168802</td>\n",
       "    </tr>\n",
       "    <tr>\n",
       "      <th>bmw</th>\n",
       "      <td>0.216859</td>\n",
       "      <td>0.171105</td>\n",
       "    </tr>\n",
       "    <tr>\n",
       "      <th>volkswagen</th>\n",
       "      <td>0.140596</td>\n",
       "      <td>0.166116</td>\n",
       "    </tr>\n",
       "    <tr>\n",
       "      <th>ford</th>\n",
       "      <td>0.097579</td>\n",
       "      <td>0.160384</td>\n",
       "    </tr>\n",
       "    <tr>\n",
       "      <th>opel</th>\n",
       "      <td>0.077430</td>\n",
       "      <td>0.166894</td>\n",
       "    </tr>\n",
       "  </tbody>\n",
       "</table>\n",
       "</div>"
      ],
      "text/plain": [
       "               mean_price  mean_mileage\n",
       "audi             0.242984      0.166697\n",
       "mercedes_benz    0.224553      0.168802\n",
       "bmw              0.216859      0.171105\n",
       "volkswagen       0.140596      0.166116\n",
       "ford             0.097579      0.160384\n",
       "opel             0.077430      0.166894"
      ]
     },
     "execution_count": 52,
     "metadata": {},
     "output_type": "execute_result"
    }
   ],
   "source": [
    "normalize"
   ]
  },
  {
   "cell_type": "code",
   "execution_count": 53,
   "id": "a731a838",
   "metadata": {},
   "outputs": [
    {
     "data": {
      "image/png": "[encoded data removed]",
      "text/plain": [
       "<Figure size 432x288 with 1 Axes>"
      ]
     },
     "metadata": {},
     "output_type": "display_data"
    }
   ],
   "source": [
    "normalize.plot.barh(title = \"Brands Price and Mileage Comparison\",\n",
    "                  fontsize = 15,color = [\"#FF9900\",\"#3333FF\"])\n",
    "plt.xlabel(\"Brands\")\n",
    "plt.ylabel(\"Density\")\n",
    "plt.show()"
   ]
  },
  {
   "cell_type": "code",
   "execution_count": 54,
   "id": "1dab0e56",
   "metadata": {},
   "outputs": [
    {
     "data": {
      "text/plain": [
       "brand       model  \n",
       "audi        a4         1231\n",
       "            a3          825\n",
       "            a6          797\n",
       "            andere      216\n",
       "            80          198\n",
       "                       ... \n",
       "volkswagen  up           51\n",
       "            jetta        38\n",
       "            phaeton      31\n",
       "            cc           18\n",
       "            amarok        6\n",
       "Name: model, Length: 96, dtype: int64"
      ]
     },
     "execution_count": 54,
     "metadata": {},
     "output_type": "execute_result"
    }
   ],
   "source": [
    "brand_model = popular_brand.groupby(\"brand\")[\"model\"].value_counts()\n",
    "brand_model"
   ]
  },
  {
   "cell_type": "code",
   "execution_count": 55,
   "id": "5c4c3e9f",
   "metadata": {},
   "outputs": [],
   "source": [
    "c_b = common_brand.index"
   ]
  },
  {
   "cell_type": "code",
   "execution_count": 56,
   "id": "84161da3",
   "metadata": {},
   "outputs": [],
   "source": [
    "b_top_m = {}\n",
    "for i in c_b:\n",
    "    model = brand_model[i].index[0]\n",
    "    b_top_m[i] = model"
   ]
  },
  {
   "cell_type": "code",
   "execution_count": 57,
   "id": "2442a81a",
   "metadata": {},
   "outputs": [
    {
     "name": "stdout",
     "output_type": "stream",
     "text": [
      "Top 5 Brand Models Car\n"
     ]
    },
    {
     "data": {
      "text/html": [
       "<div>\n",
       "<style scoped>\n",
       "    .dataframe tbody tr th:only-of-type {\n",
       "        vertical-align: middle;\n",
       "    }\n",
       "\n",
       "    .dataframe tbody tr th {\n",
       "        vertical-align: top;\n",
       "    }\n",
       "\n",
       "    .dataframe thead th {\n",
       "        text-align: right;\n",
       "    }\n",
       "</style>\n",
       "<table border=\"1\" class=\"dataframe\">\n",
       "  <thead>\n",
       "    <tr style=\"text-align: right;\">\n",
       "      <th></th>\n",
       "      <th>Brands</th>\n",
       "      <th>Models</th>\n",
       "    </tr>\n",
       "  </thead>\n",
       "  <tbody>\n",
       "    <tr>\n",
       "      <th>0</th>\n",
       "      <td>volkswagen</td>\n",
       "      <td>golf</td>\n",
       "    </tr>\n",
       "    <tr>\n",
       "      <th>1</th>\n",
       "      <td>bmw</td>\n",
       "      <td>3er</td>\n",
       "    </tr>\n",
       "    <tr>\n",
       "      <th>2</th>\n",
       "      <td>opel</td>\n",
       "      <td>corsa</td>\n",
       "    </tr>\n",
       "    <tr>\n",
       "      <th>3</th>\n",
       "      <td>mercedes_benz</td>\n",
       "      <td>c_klasse</td>\n",
       "    </tr>\n",
       "    <tr>\n",
       "      <th>4</th>\n",
       "      <td>audi</td>\n",
       "      <td>a4</td>\n",
       "    </tr>\n",
       "    <tr>\n",
       "      <th>5</th>\n",
       "      <td>ford</td>\n",
       "      <td>focus</td>\n",
       "    </tr>\n",
       "  </tbody>\n",
       "</table>\n",
       "</div>"
      ],
      "text/plain": [
       "          Brands    Models\n",
       "0     volkswagen      golf\n",
       "1            bmw       3er\n",
       "2           opel     corsa\n",
       "3  mercedes_benz  c_klasse\n",
       "4           audi        a4\n",
       "5           ford     focus"
      ]
     },
     "execution_count": 57,
     "metadata": {},
     "output_type": "execute_result"
    }
   ],
   "source": [
    "top_models = pd.DataFrame(b_top_m.items(), columns=['Brands', 'Models'])\n",
    "print(\"Top 5 Brand Models Car\")\n",
    "top_models"
   ]
  },
  {
   "cell_type": "code",
   "execution_count": null,
   "id": "94f34ede",
   "metadata": {},
   "outputs": [],
   "source": []
  }
 ],
 "metadata": {
  "kernelspec": {
   "display_name": "Python 3 (ipykernel)",
   "language": "python",
   "name": "python3"
  },
  "language_info": {
   "codemirror_mode": {
    "name": "ipython",
    "version": 3
   },
   "file_extension": ".py",
   "mimetype": "text/x-python",
   "name": "python",
   "nbconvert_exporter": "python",
   "pygments_lexer": "ipython3",
   "version": "3.9.12"
  }
 },
 "nbformat": 4,
 "nbformat_minor": 5
}
